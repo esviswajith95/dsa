{
 "cells": [
  {
   "cell_type": "markdown",
   "metadata": {},
   "source": [
    "# Python Recap"
   ]
  },
  {
   "cell_type": "markdown",
   "metadata": {},
   "source": [
    "## Compute GCD of two numbers"
   ]
  },
  {
   "cell_type": "code",
   "execution_count": 9,
   "metadata": {},
   "outputs": [
    {
     "data": {
      "text/plain": [
       "4"
      ]
     },
     "execution_count": 9,
     "metadata": {},
     "output_type": "execute_result"
    }
   ],
   "source": [
    "def gcd(m,n):\n",
    "\n",
    "    for i in range(1, min(m,n)+1):\n",
    "        if m%i == 0 and n%i == 0:\n",
    "            gcd = i\n",
    "\n",
    "    return gcd\n",
    "\n",
    "gcd(8, 12)"
   ]
  },
  {
   "cell_type": "markdown",
   "metadata": {},
   "source": [
    "### A better way: Euclid's algorithm\n",
    "$$\n",
    "m = qn + r \\\\\n",
    "$$\n",
    "\n",
    "Suppose d divides both m and n,\n",
    "$$\n",
    "m = ad \\\\\n",
    "n = bd \\\\\n",
    "ad = q(bd) + r \\implies r = cd, for \\space some \\space c\\\\\n",
    " \n",
    "$$"
   ]
  },
  {
   "cell_type": "code",
   "execution_count": 10,
   "metadata": {},
   "outputs": [
    {
     "data": {
      "text/plain": [
       "4"
      ]
     },
     "execution_count": 10,
     "metadata": {},
     "output_type": "execute_result"
    }
   ],
   "source": [
    "def gcd(m,n):\n",
    "    (a, b) = (max(m,n), min(m,n))\n",
    "\n",
    "    if a%b == 0:\n",
    "        return b\n",
    "    else:\n",
    "        return gcd(b, a%b)\n",
    "gcd(8, 12)"
   ]
  },
  {
   "cell_type": "markdown",
   "metadata": {},
   "source": [
    "## Check if a number is prime or not"
   ]
  },
  {
   "cell_type": "code",
   "execution_count": 11,
   "metadata": {},
   "outputs": [
    {
     "name": "stdout",
     "output_type": "stream",
     "text": [
      "0 False\n",
      "1 False\n",
      "2 True\n",
      "3 True\n",
      "4 False\n",
      "5 True\n",
      "6 False\n",
      "7 True\n",
      "8 False\n",
      "9 False\n"
     ]
    }
   ],
   "source": [
    "import numpy as np\n",
    "\n",
    "def is_prime(num):\n",
    "    if num <= 1:\n",
    "        return False\n",
    "    \n",
    "    for i in range(2, int(np.sqrt(num)+1)):\n",
    "        if num%i == 0:\n",
    "            return False\n",
    "    \n",
    "    return True\n",
    "\n",
    "for i in range(10):\n",
    "    print(i, is_prime(i))"
   ]
  },
  {
   "cell_type": "markdown",
   "metadata": {},
   "source": [
    "## Primes upto m"
   ]
  },
  {
   "cell_type": "code",
   "execution_count": 12,
   "metadata": {},
   "outputs": [
    {
     "data": {
      "text/plain": [
       "[2, 3, 5, 7]"
      ]
     },
     "execution_count": 12,
     "metadata": {},
     "output_type": "execute_result"
    }
   ],
   "source": [
    "def primes_upto(m):\n",
    "    prime_list = []\n",
    "    for i in range(1, m+1):\n",
    "        if is_prime(i):\n",
    "            prime_list.append(i)\n",
    "\n",
    "    return prime_list\n",
    "\n",
    "primes_upto(10)"
   ]
  },
  {
   "cell_type": "markdown",
   "metadata": {},
   "source": [
    "## First m primes"
   ]
  },
  {
   "cell_type": "code",
   "execution_count": 13,
   "metadata": {},
   "outputs": [
    {
     "data": {
      "text/plain": [
       "[2, 3, 5, 7, 11, 13, 17, 19, 23, 29]"
      ]
     },
     "execution_count": 13,
     "metadata": {},
     "output_type": "execute_result"
    }
   ],
   "source": [
    "def first_primes(m):\n",
    "    count = 0\n",
    "    prime_list = []\n",
    "    num = 1\n",
    "    while count < m:\n",
    "        if is_prime(num):\n",
    "            prime_list.append(num)\n",
    "            count += 1\n",
    "        num += 1\n",
    "        \n",
    "\n",
    "    return prime_list\n",
    "\n",
    "first_primes(10)"
   ]
  },
  {
   "cell_type": "markdown",
   "metadata": {},
   "source": [
    "## Frequency of defference between consecutive primes"
   ]
  },
  {
   "cell_type": "code",
   "execution_count": 14,
   "metadata": {},
   "outputs": [
    {
     "data": {
      "text/plain": [
       "{1: 1, 2: 8, 4: 7, 6: 7, 8: 1}"
      ]
     },
     "execution_count": 14,
     "metadata": {},
     "output_type": "execute_result"
    }
   ],
   "source": [
    "def prime_diffs(m):\n",
    "    last_prime = 2\n",
    "    diffs = {}\n",
    "    for i in range(3, m+1):\n",
    "        if is_prime(i):\n",
    "            diff = i - last_prime\n",
    "            last_prime = i\n",
    "            \n",
    "            try:\n",
    "                diffs[diff] += 1\n",
    "            except KeyError:\n",
    "                diffs[diff] = 1\n",
    "            \n",
    "\n",
    "    return diffs\n",
    "\n",
    "prime_diffs(100)"
   ]
  },
  {
   "cell_type": "markdown",
   "metadata": {},
   "source": [
    "## Classes"
   ]
  },
  {
   "cell_type": "markdown",
   "metadata": {},
   "source": [
    "### 2D Points"
   ]
  },
  {
   "cell_type": "code",
   "execution_count": 28,
   "metadata": {},
   "outputs": [],
   "source": [
    "import math\n",
    "\n",
    "class Point:\n",
    "    def __init__(self, x, y):\n",
    "        self.x = x\n",
    "        self.y = y\n",
    "    \n",
    "    def __str__(self):\n",
    "        return '(' + str(self.x) + ',' + str(self.y) + ')'\n",
    "\n",
    "    def __add__(self, p):\n",
    "        return (Point(self.x + p.x, self.y + p.y))\n",
    "\n",
    "    def translate(self, deltax, deltay):\n",
    "        self.x += deltax\n",
    "        self.y += deltay\n",
    "\n",
    "    def odistance(self):\n",
    "        return math.sqrt(self.x**2 + self.y**2)\n",
    "\n"
   ]
  },
  {
   "cell_type": "code",
   "execution_count": 29,
   "metadata": {},
   "outputs": [],
   "source": [
    "point1 = Point(2, 2)\n",
    "point2 = Point(1,3)"
   ]
  },
  {
   "cell_type": "code",
   "execution_count": 25,
   "metadata": {},
   "outputs": [
    {
     "data": {
      "text/plain": [
       "2.8284271247461903"
      ]
     },
     "execution_count": 25,
     "metadata": {},
     "output_type": "execute_result"
    }
   ],
   "source": [
    "print(point1.odistance())\n",
    "print(point2.odistance())"
   ]
  },
  {
   "cell_type": "code",
   "execution_count": 31,
   "metadata": {},
   "outputs": [],
   "source": [
    "c = point1 + point2"
   ]
  },
  {
   "cell_type": "code",
   "execution_count": 32,
   "metadata": {},
   "outputs": [
    {
     "data": {
      "text/plain": [
       "(3, 5)"
      ]
     },
     "execution_count": 32,
     "metadata": {},
     "output_type": "execute_result"
    }
   ],
   "source": [
    "c.x, c.y"
   ]
  },
  {
   "cell_type": "markdown",
   "metadata": {},
   "source": [
    "### Timer class for measuring time complexity"
   ]
  },
  {
   "cell_type": "code",
   "execution_count": 36,
   "metadata": {},
   "outputs": [],
   "source": [
    "import time\n",
    "\n",
    "class TimerError(Exception):\n",
    "    '''A custom exception used to report error in use of Timer Class'''\n",
    "\n",
    "class Timer:\n",
    "    '''A utility to time our program runtimes conveniently'''\n",
    "    \n",
    "    def __init__(self):\n",
    "        self._start_time = None\n",
    "        self._elapsed_time = None\n",
    "\n",
    "    def start(self):\n",
    "        '''Starts a new timer'''\n",
    "        if self._start_time is not None:\n",
    "            raise TimerError(\"Timer is running. Use .stop()\")\n",
    "        self._start_time = time.perf_counter()\n",
    "\n",
    "    def stop(self):\n",
    "        '''Stop a running timer and reinitialize it'''\n",
    "        if self._start_time is None:\n",
    "            raise TimerError(\"Timer is not running. Please use .start()\")\n",
    "        self._elapsed_time = time.perf_counter() - self._start_time\n",
    "        self._start_time = None\n",
    "\n",
    "    def elapsed(self):\n",
    "        '''Report eleapsed time'''\n",
    "        if self._elapsed_time is None:\n",
    "            raise TimerError(\"Timer has not been run yet. Use .start()\")\n",
    "        return (self._elapsed_time) \n",
    "\n",
    "    def __str__(self):\n",
    "        '''print() prints elapsed time'''\n",
    "        return (str(self._elapsed_time))"
   ]
  },
  {
   "cell_type": "code",
   "execution_count": 37,
   "metadata": {},
   "outputs": [
    {
     "name": "stdout",
     "output_type": "stream",
     "text": [
      "4 0.0015417999820783734\n",
      "5 0.007441400084644556\n",
      "6 0.07261820009443909\n",
      "7 0.7112497999332845\n",
      "8 7.110548699973151\n"
     ]
    }
   ],
   "source": [
    "t = Timer()\n",
    "for j in range(4, 9):\n",
    "    t.start()\n",
    "    n = 0\n",
    "    for i in range(10**j):\n",
    "        n = n + 1\n",
    "    t.stop()\n",
    "    print(j, t)"
   ]
  },
  {
   "cell_type": "code",
   "execution_count": null,
   "metadata": {},
   "outputs": [],
   "source": []
  }
 ],
 "metadata": {
  "kernelspec": {
   "display_name": "Python 3.10.2 64-bit",
   "language": "python",
   "name": "python3"
  },
  "language_info": {
   "codemirror_mode": {
    "name": "ipython",
    "version": 3
   },
   "file_extension": ".py",
   "mimetype": "text/x-python",
   "name": "python",
   "nbconvert_exporter": "python",
   "pygments_lexer": "ipython3",
   "version": "3.10.2"
  },
  "orig_nbformat": 4,
  "vscode": {
   "interpreter": {
    "hash": "369f2c481f4da34e4445cda3fffd2e751bd1c4d706f27375911949ba6bb62e1c"
   }
  }
 },
 "nbformat": 4,
 "nbformat_minor": 2
}
